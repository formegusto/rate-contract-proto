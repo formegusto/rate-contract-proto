{
 "cells": [
  {
   "cell_type": "code",
   "execution_count": 121,
   "id": "3cc12a5b",
   "metadata": {},
   "outputs": [
    {
     "name": "stdout",
     "output_type": "stream",
     "text": [
      "The autoreload extension is already loaded. To reload it, use:\n",
      "  %reload_ext autoreload\n"
     ]
    }
   ],
   "source": [
    "%load_ext autoreload\n",
    "%autoreload 2\n",
    "%reload_ext autoreload"
   ]
  },
  {
   "cell_type": "code",
   "execution_count": 122,
   "id": "f4793c07",
   "metadata": {},
   "outputs": [],
   "source": [
    "from src.objects import *"
   ]
  },
  {
   "cell_type": "code",
   "execution_count": 123,
   "id": "07cb4dd8",
   "metadata": {},
   "outputs": [],
   "source": [
    "mgmt = MGMTOFFICE(rate_type=\"종합계약\")"
   ]
  },
  {
   "cell_type": "code",
   "execution_count": 127,
   "id": "e051cb1c",
   "metadata": {},
   "outputs": [],
   "source": [
    "mgmt.households[1].calc_meter()"
   ]
  },
  {
   "cell_type": "code",
   "execution_count": 128,
   "id": "9bc58faf",
   "metadata": {},
   "outputs": [
    {
     "data": {
      "text/plain": [
       "{'기본요금': 910,\n",
       " '전력량요금': 15894,\n",
       " '기후환경요금': 954,\n",
       " '연료비조정액': -540,\n",
       " '필수사용량보장공제': -4000}"
      ]
     },
     "execution_count": 128,
     "metadata": {},
     "output_type": "execute_result"
    }
   ],
   "source": [
    "mgmt.households[1].fee_dict"
   ]
  },
  {
   "cell_type": "code",
   "execution_count": 129,
   "id": "1cc32bed",
   "metadata": {},
   "outputs": [
    {
     "data": {
      "text/plain": [
       "'201 호'"
      ]
     },
     "execution_count": 129,
     "metadata": {},
     "output_type": "execute_result"
    }
   ],
   "source": [
    "mgmt.households[1].name"
   ]
  },
  {
   "cell_type": "code",
   "execution_count": 130,
   "id": "d2fec8ea",
   "metadata": {},
   "outputs": [],
   "source": [
    "mgmt = MGMTOFFICE(rate_type=\"단일계약\")"
   ]
  },
  {
   "cell_type": "code",
   "execution_count": 135,
   "id": "3e2a598c",
   "metadata": {},
   "outputs": [],
   "source": [
    "mgmt.households[4].calc_meter()"
   ]
  },
  {
   "cell_type": "code",
   "execution_count": 136,
   "id": "1e2706a1",
   "metadata": {},
   "outputs": [
    {
     "data": {
      "text/plain": [
       "{'기본요금': 1260, '전력량요금': 30313, '기후환경요금': 1643, '연료비조정액': -930, '필수사용량보장공제': 0}"
      ]
     },
     "execution_count": 136,
     "metadata": {},
     "output_type": "execute_result"
    }
   ],
   "source": [
    "mgmt.households[4].fee_dict"
   ]
  },
  {
   "cell_type": "code",
   "execution_count": null,
   "id": "288f325c",
   "metadata": {},
   "outputs": [],
   "source": []
  }
 ],
 "metadata": {
  "kernelspec": {
   "display_name": "Python 3",
   "language": "python",
   "name": "python3"
  },
  "language_info": {
   "codemirror_mode": {
    "name": "ipython",
    "version": 3
   },
   "file_extension": ".py",
   "mimetype": "text/x-python",
   "name": "python",
   "nbconvert_exporter": "python",
   "pygments_lexer": "ipython3",
   "version": "3.8.8"
  }
 },
 "nbformat": 4,
 "nbformat_minor": 5
}
